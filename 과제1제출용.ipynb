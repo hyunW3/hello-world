{
  "nbformat": 4,
  "nbformat_minor": 0,
  "metadata": {
    "colab": {
      "name": "asset-v1_SNUk+SNU051_011k+2018_T2+type@asset+block@kmooc_HW1_SparkRDDSQL_updated.ipynb",
      "version": "0.3.2",
      "provenance": [],
      "collapsed_sections": []
    },
    "kernelspec": {
      "display_name": "Python 2",
      "language": "python",
      "name": "python2"
    }
  },
  "cells": [
    {
      "cell_type": "markdown",
      "metadata": {
        "id": "K9JzWDhUXkh6",
        "colab_type": "text"
      },
      "source": [
        "Copyright (C) 2018 Software Platform Lab, Seoul National University\n",
        "\n",
        "Licensed under the Apache License, Version 2.0 (the \"License\");\n",
        "you may not use this file except in compliance with the License.\n",
        "You may obtain a copy of the License at\n",
        "    http://www.apache.org/licenses/LICENSE-2.0\n",
        "Unless required by applicable law or agreed to in writing, software\n",
        "distributed under the License is distributed on an \"AS IS\" BASIS,\n",
        "WITHOUT WARRANTIES OR CONDITIONS OF ANY KIND, either express or implied.\n",
        "See the License for the specific language governing permissions and\n",
        "limitations under the License."
      ]
    },
    {
      "cell_type": "markdown",
      "metadata": {
        "id": "Tv1ZcltrbkFI",
        "colab_type": "text"
      },
      "source": [
        "# KMOOC_HW1: Spark RDD / SparkSQL\n",
        "\n",
        "## Colab Spark Setup"
      ]
    },
    {
      "cell_type": "code",
      "metadata": {
        "id": "w82WXCR2VCcV",
        "colab_type": "code",
        "outputId": "a67c8426-1db5-480d-ee28-655067a51a49",
        "colab": {
          "base_uri": "https://localhost:8080/",
          "height": 451
        }
      },
      "source": [
        "!apt-get update\n",
        "!apt-get install openjdk-8-jdk-headless -q\n",
        "!curl http://mirror.cogentco.com/pub/apache/spark/spark-2.3.3/spark-2.3.3-bin-hadoop2.7.tgz --output spark-2.3.3-bin-hadoop2.7.tgz\n",
        "!tar xf spark-2.3.3-bin-hadoop2.7.tgz\n",
        "!pip install -q findspark"
      ],
      "execution_count": 0,
      "outputs": [
        {
          "output_type": "stream",
          "text": [
            "\r0% [Working]\r            \rIgn:1 https://developer.download.nvidia.com/compute/cuda/repos/ubuntu1804/x86_64  InRelease\n",
            "\r0% [Connecting to archive.ubuntu.com (91.189.88.162)] [Connecting to security.u\r                                                                               \rHit:2 https://cloud.r-project.org/bin/linux/ubuntu bionic-cran35/ InRelease\n",
            "\r0% [Connecting to archive.ubuntu.com (91.189.88.162)] [Connecting to security.u\r0% [2 InRelease gpgv 3,609 B] [Connecting to archive.ubuntu.com (91.189.88.162)\r                                                                               \rIgn:3 https://developer.download.nvidia.com/compute/machine-learning/repos/ubuntu1804/x86_64  InRelease\n",
            "\r0% [2 InRelease gpgv 3,609 B] [Connecting to archive.ubuntu.com (91.189.88.162)\r                                                                               \rHit:4 https://developer.download.nvidia.com/compute/cuda/repos/ubuntu1804/x86_64  Release\n",
            "\r0% [2 InRelease gpgv 3,609 B] [Connecting to archive.ubuntu.com (91.189.88.162)\r                                                                               \rHit:5 https://developer.download.nvidia.com/compute/machine-learning/repos/ubuntu1804/x86_64  Release\n",
            "\r0% [2 InRelease gpgv 3,609 B] [Connecting to archive.ubuntu.com (91.189.88.162)\r                                                                               \rHit:6 http://ppa.launchpad.net/graphics-drivers/ppa/ubuntu bionic InRelease\n",
            "Hit:8 http://ppa.launchpad.net/marutter/c2d4u3.5/ubuntu bionic InRelease\n",
            "Hit:10 http://security.ubuntu.com/ubuntu bionic-security InRelease\n",
            "Hit:11 http://archive.ubuntu.com/ubuntu bionic InRelease\n",
            "Hit:12 http://archive.ubuntu.com/ubuntu bionic-updates InRelease\n",
            "Hit:13 http://archive.ubuntu.com/ubuntu bionic-backports InRelease\n",
            "Reading package lists... Done\n",
            "Reading package lists...\n",
            "Building dependency tree...\n",
            "Reading state information...\n",
            "openjdk-8-jdk-headless is already the newest version (8u212-b03-0ubuntu1.18.04.1).\n",
            "The following package was automatically installed and is no longer required:\n",
            "  libnvidia-common-410\n",
            "Use 'apt autoremove' to remove it.\n",
            "0 upgraded, 0 newly installed, 0 to remove and 9 not upgraded.\n",
            "  % Total    % Received % Xferd  Average Speed   Time    Time     Time  Current\n",
            "                                 Dload  Upload   Total   Spent    Left  Speed\n",
            "100  215M  100  215M    0     0  33.4M      0  0:00:06  0:00:06 --:--:-- 37.1M\n"
          ],
          "name": "stdout"
        }
      ]
    },
    {
      "cell_type": "code",
      "metadata": {
        "id": "sSL4Z8LJHp4F",
        "colab_type": "code",
        "colab": {}
      },
      "source": [
        "import os\n",
        "os.environ[\"JAVA_HOME\"] = \"/usr/lib/jvm/java-8-openjdk-amd64\"\n",
        "os.environ[\"SPARK_HOME\"] = \"/content/spark-2.3.3-bin-hadoop2.7\""
      ],
      "execution_count": 0,
      "outputs": []
    },
    {
      "cell_type": "markdown",
      "metadata": {
        "id": "X-Pvn8rkXuHD",
        "colab_type": "text"
      },
      "source": [
        "## Wikipedia dataset sample\n",
        "\n",
        "This time we're not using HDFS to load the data. Sample data are loaded by Python code directly.\n",
        "\n",
        "The data has four fields: project, title, pageview count and size."
      ]
    },
    {
      "cell_type": "code",
      "metadata": {
        "id": "fe9CpOJcPPfb",
        "colab_type": "code",
        "colab": {}
      },
      "source": [
        "wikipedia_data_sample = [\"commons.m File:Gemblong.JPG 1 9717\"\n",
        ",\"pl Beata_Tyszkiewicz 10 207378\"\n",
        ",\"en Special:RecentChangesLinked/Roswell_(TV_series) 1 14617\"\n",
        ",\"de Grafische_Benutzeroberfl%C3%A4che 1 22549\"\n",
        ",\"en Simeon_I_of_Bulgaria 5 385793\"\n",
        ",\"en Rainbow_Six_(novel) 8 122792\"\n",
        ",\"es Pediatr%C3%ADa 5 73598\"\n",
        ",\"sv Ett_uts%C3%B6kt_universum 1 9499\"\n",
        ",\"en Video_game_content_rating_system 4 112324\"\n",
        ",\"es Yuno_Gasai 2 55260\"\n",
        ",\"en File:Georg_Wilhelm_Friedrich_Hegel00.jpg 1 43395\"\n",
        ",\"en Anestia_ombrophanes 1 8881\"\n",
        ",\"et Seitse 2 84874\"\n",
        ",\"en And_I_Am_Telling_You_I%27m_Not_Going 4 85690\"\n",
        ",\"he %D7%A4%D7%A8%D7%93%D7%99%D7%92%D7%9E%D7%94 1 13887\"\n",
        ",\"zh File:Pictogram_voting_keep-green.svg 1 15106\"\n",
        ",\"sv Special:Senaste_relaterade_%C3%A4ndringar/Homestead,_Florida 1 7677\"\n",
        ",\"pt Categoria:Ambientes_de_desenvolvimento_integrado_livres 1 8151\"\n",
        ",\"de.voy Plattensee 1 43748\"\n",
        ",\"en Sia 1 8938\"\n",
        ",\"en Category:Toronto_Toros_players 2 0\"\n",
        ",\"en Special:Export/Helsinki_Accords 1 19899\"\n",
        ",\"xh Special:Contributions/Kpeterzell 1 5883\"\n",
        ",\"nl Sia 1 0\"\n",
        ",\"no Sia 5 87075\"\n",
        ",\"en Special:Contributions/2.31.218.202 1 7402\"\n",
        ",\"es Sia 1 10329\"\n",
        ",\"de Datei:BSicon_uhKBHFe.svg 1 9786\"\n",
        ",\"en Randolph_County,_Alabama 1 21431\"\n",
        ",\"es Woodkid 3 70494\"\n",
        ",\"en Tu_Bishvat 3 56438\"\n",
        ",\"cs Radiohead 1 14325\"\n",
        ",\"es Naturaleza_sangre 1 9286\"\n",
        ",\"en Anatolia_(disambiguation) 1 7980\"\n",
        ",\"pt Woodkid 1 8982\"\n",
        ",\"pt Titanoboa_cerrejonensis 5 64540\"\n",
        ",\"commons.m Woodkid 1 19278\"\n",
        ",\"fi Matti_Inkinen 1 10138\"\n",
        ",\"ja %E3%83%95%E3%82%A1%E3%82%A4%E3%83%AB:Esfahan_(Iran)_Emam_Mosque.JPG 1 33168\"\n",
        ",\"en Psicobloc 1 12739\"\n",
        ",\"en Macael,_Spain 1 12658\"\n",
        ",\"fa Ryuichi_Sakamoto 1 22855\"\n",
        ",\"fr Sp%C3%A9cial:Pages_li%C3%A9es/Fichier:Wiki-ezokuroten5.jpg 1 21955\"\n",
        ",\"nl Overleg_gebruiker:82.171.157.232 1 0\"\n",
        ",\"en Thomas_%26_Mack_Center 2 41010\"\n",
        ",\"en Warren_Beatty 49 2631986\"\n",
        ",\"uz Auberville 1 11401\"\n",
        ",\"es Naturaleza_sangrea 10 9286\"\n",
        ",\"pt Queima_de_sutis 2 8982\"]"
      ],
      "execution_count": 0,
      "outputs": []
    },
    {
      "cell_type": "code",
      "metadata": {
        "id": "6n8go8ojHp_E",
        "colab_type": "code",
        "colab": {}
      },
      "source": [
        "import findspark\n",
        "\n",
        "findspark.init()\n",
        "\n",
        "from pyspark.sql import SparkSession\n",
        "\n",
        "ss = SparkSession.builder.master(\"local[*]\").getOrCreate()\n",
        "sc = ss.sparkContext\n",
        "\n",
        "# Parallelize the data and split into columns\n",
        "lines = sc.parallelize(wikipedia_data_sample)\n",
        "columns = lines.map(lambda line: tuple(line.split(\" \")))"
      ],
      "execution_count": 0,
      "outputs": []
    },
    {
      "cell_type": "markdown",
      "metadata": {
        "id": "KgEM6fA2YaPz",
        "colab_type": "text"
      },
      "source": [
        "## Problem 1. Spark RDD \n"
      ]
    },
    {
      "cell_type": "code",
      "metadata": {
        "id": "Z650qgjHTFLM",
        "colab_type": "code",
        "outputId": "66eb1b50-b4c9-46f1-dc61-9728c9ef9468",
        "colab": {
          "base_uri": "https://localhost:8080/",
          "height": 35
        }
      },
      "source": [
        "# Create (project, count) tuples\n",
        "project_count_tuples = columns.map(lambda column: (column[0], int(column[2])))\n",
        "#project_count_tuples.collect()\n",
        "# Hint: Try using ReduceByKey and Filter transforms!\n",
        "\n",
        "########## ANSWER ##########\n",
        "counts = project_count_tuples.reduceByKey(lambda x,y: x+y)\n",
        "#counts.collect()\n",
        "counts.filter(lambda x:x[1]>=20).collect()"
      ],
      "execution_count": 103,
      "outputs": [
        {
          "output_type": "execute_result",
          "data": {
            "text/plain": [
              "[('es', 22), ('en', 87)]"
            ]
          },
          "metadata": {
            "tags": []
          },
          "execution_count": 103
        }
      ]
    },
    {
      "cell_type": "markdown",
      "metadata": {
        "id": "-dahjKAWP7IG",
        "colab_type": "text"
      },
      "source": [
        "## Problem 2. SparkSQL"
      ]
    },
    {
      "cell_type": "code",
      "metadata": {
        "id": "frWtHQFyP9Pd",
        "colab_type": "code",
        "outputId": "7b8e4125-f74e-4643-d05a-b3082c86f91c",
        "colab": {
          "base_uri": "https://localhost:8080/",
          "height": 179
        }
      },
      "source": [
        "# Create a Spark DataFrame from wikipedia_data_sample (equivalent of an 'SQL table' in Spark)\n",
        "df = ss.createDataFrame(columns, ['project', 'title', 'count', 'size'])\n",
        "\n",
        "# Create a table view called \"WikipediaTable\"\n",
        "df.createOrReplaceTempView(\"WikipediaTable\")\n",
        "\n",
        "########## ANSWER ##########\n",
        "dfs = ss.sql(\"SELECT project,title,size FROM WikipediaTable\")\n",
        "seldf = dfs.filter(dfs['project']=='en')\\\n",
        "          .filter(dfs['size']>=1000)\\\n",
        "          .filter(dfs['size']<10000)\n",
        "seldf = seldf.orderBy(\"title\",ascending = False)\n",
        "seldf.show()"
      ],
      "execution_count": 104,
      "outputs": [
        {
          "output_type": "stream",
          "text": [
            "+-------+--------------------+----+\n",
            "|project|               title|size|\n",
            "+-------+--------------------+----+\n",
            "|     en|Special:Contribut...|7402|\n",
            "|     en|                 Sia|8938|\n",
            "|     en| Anestia_ombrophanes|8881|\n",
            "|     en|Anatolia_(disambi...|7980|\n",
            "+-------+--------------------+----+\n",
            "\n"
          ],
          "name": "stdout"
        }
      ]
    },
    {
      "cell_type": "markdown",
      "metadata": {
        "id": "sqwahN_tTnmp",
        "colab_type": "text"
      },
      "source": [
        "## Problem 3. SparkSQL "
      ]
    },
    {
      "cell_type": "code",
      "metadata": {
        "id": "Aw3J1GToUxl7",
        "colab_type": "code",
        "outputId": "e496fba8-4db0-4a3a-f2e1-fb8e57947aae",
        "colab": {
          "base_uri": "https://localhost:8080/",
          "height": 161
        }
      },
      "source": [
        "title_owner = [\"Woodkid Lila\"\n",
        ",\"Sia Jane\"\n",
        ",\"Ryuichi_Sakamoto Sam\"]\n",
        "\n",
        "lines1 = sc.parallelize(title_owner)\n",
        "columns1 = lines1.map(lambda line: tuple(line.split(\" \")))\n",
        "\n",
        "df1 = ss.createDataFrame(columns1, ['title', 'owner'])\n",
        "df1.createOrReplaceTempView(\"OwnerTable\")\n",
        "\n",
        "########## ANSWER ##########\n",
        "df = ss.sql(\"SELECT count,title FROM WikipediaTable\")\n",
        "#df.show()\n",
        "#df1.show()\n",
        "df2 = df.join(df1,df['title'] == df1['title'])\n",
        "#df2.show()\n",
        "df2 = df2.groupby('owner').agg({'count': 'mean'}) \n",
        "df2 = df2.withColumnRenamed(\"avg(count)\",\"avg_count\")\n",
        "df2.show()\n",
        "\n"
      ],
      "execution_count": 106,
      "outputs": [
        {
          "output_type": "stream",
          "text": [
            "+-----+------------------+\n",
            "|owner|         avg_count|\n",
            "+-----+------------------+\n",
            "| Lila|1.6666666666666667|\n",
            "|  Sam|               1.0|\n",
            "| Jane|               2.0|\n",
            "+-----+------------------+\n",
            "\n"
          ],
          "name": "stdout"
        }
      ]
    },
    {
      "cell_type": "code",
      "metadata": {
        "id": "h6oWumAzTttJ",
        "colab_type": "code",
        "colab": {}
      },
      "source": [
        ""
      ],
      "execution_count": 0,
      "outputs": []
    }
  ]
}